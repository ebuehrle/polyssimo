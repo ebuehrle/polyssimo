{
  "nbformat": 4,
  "nbformat_minor": 0,
  "metadata": {
    "colab": {
      "name": "polyssimo.ipynb",
      "provenance": [],
      "authorship_tag": "ABX9TyO1CWHN4caPDw+CYwU3+XWP",
      "include_colab_link": true
    },
    "kernelspec": {
      "name": "python3",
      "display_name": "Python 3"
    },
    "language_info": {
      "name": "python"
    }
  },
  "cells": [
    {
      "cell_type": "markdown",
      "metadata": {
        "id": "view-in-github",
        "colab_type": "text"
      },
      "source": [
        "<a href=\"https://colab.research.google.com/github/ebuehrle/polyssimo/blob/main/polyssimo.ipynb\" target=\"_parent\"><img src=\"https://colab.research.google.com/assets/colab-badge.svg\" alt=\"Open In Colab\"/></a>"
      ]
    },
    {
      "cell_type": "code",
      "metadata": {
        "id": "V6O6rmuuH24H"
      },
      "source": [
        "import jax\n",
        "import jax.numpy as jnp\n",
        "import functools"
      ],
      "execution_count": 148,
      "outputs": []
    },
    {
      "cell_type": "code",
      "metadata": {
        "id": "GMnP71x_H6ns"
      },
      "source": [
        "@functools.partial(jax.vmap, in_axes=(None, 0)) # pieces\n",
        "@functools.partial(jax.vmap, in_axes=(None, 0)) # rotations\n",
        "def placements(board, piece):\n",
        "  board_height, board_width = board.shape\n",
        "  piece_height, piece_width = piece.shape\n",
        "\n",
        "  padded_board = jnp.pad(\n",
        "      board,\n",
        "      ((0, piece_height - 1), (0, piece_width - 1)),\n",
        "      constant_values=1\n",
        "  )\n",
        "\n",
        "  places = 1.0 * (jax.lax.conv(\n",
        "      padded_board[jnp.newaxis, jnp.newaxis, :, :],\n",
        "      piece[jnp.newaxis, jnp.newaxis, :, :],\n",
        "      (1, 1),\n",
        "      'VALID'\n",
        "  )[0, 0, :, :] == 0)\n",
        "\n",
        "  return places\n",
        "\n",
        "@jax.vmap # pieces\n",
        "@jax.vmap # rotations\n",
        "def coverage(piece, placements):\n",
        "  board_height, board_width = placements.shape\n",
        "  piece_height, piece_width = piece.shape\n",
        "\n",
        "  padded_placements = jnp.pad(\n",
        "      placements,\n",
        "      ((piece_height - 1, 0), (piece_width - 1, 0)),\n",
        "      constant_values=0\n",
        "  )\n",
        "  flipped_piece = jnp.flip(piece)\n",
        "  cov = jax.lax.conv(\n",
        "      padded_placements[jnp.newaxis, jnp.newaxis, :, :],\n",
        "      flipped_piece[jnp.newaxis, jnp.newaxis, :, :],\n",
        "      (1, 1),\n",
        "      'VALID'\n",
        "  )[0, 0, :, :]\n",
        "\n",
        "  return cov\n",
        "\n",
        "def solve(board, pieces, unique_rotations, idx=0):\n",
        "  _, board_height, board_width = board.shape\n",
        "  num_pieces, num_rotations, pcs_height, pcs_width = pieces.shape\n",
        "\n",
        "  current_board = jnp.sum(board[:idx+1], axis=0)\n",
        "  if idx >= num_pieces or jnp.all(current_board):\n",
        "    return board\n",
        "\n",
        "  # compute placements and coverage for remaining pieces\n",
        "  remaining_pieces = pieces[idx:, :, :, :]\n",
        "  remaining_unique_rotations = unique_rotations[idx:, :]\n",
        "  piece_placements = placements(current_board, remaining_pieces) * remaining_unique_rotations[:, :, jnp.newaxis, jnp.newaxis]\n",
        "  piece_coverage = coverage(remaining_pieces, piece_placements) * remaining_unique_rotations[:, :, jnp.newaxis, jnp.newaxis]\n",
        "\n",
        "  # if cannot place all remaining pieces -> stop\n",
        "  all_pieces_placeable = jnp.all(jnp.any(piece_placements, axis=(1, 2, 3)))\n",
        "  if not all_pieces_placeable:\n",
        "    return\n",
        "\n",
        "  # if cannot cover entire board -> stop\n",
        "  entire_board_coverable = jnp.all(current_board + jnp.sum(piece_coverage, axis=(0, 1)))\n",
        "  if not entire_board_coverable:\n",
        "    return\n",
        "\n",
        "  # swap piece with fewest placements to the front\n",
        "  coverage_per_piece = jnp.any(piece_coverage, axis=1)\n",
        "  cell_coverage = jnp.sum(coverage_per_piece, axis=0)\n",
        "  cell_coverage_by_piece = cell_coverage[jnp.newaxis, jnp.newaxis, :, :] * piece_coverage\n",
        "  forced_pieces = jnp.argwhere(cell_coverage_by_piece == 1)\n",
        "\n",
        "  if len(forced_pieces):\n",
        "    next_piece_offset, _, _, _ = forced_pieces[0]\n",
        "  else:\n",
        "    total_coverage_per_piece = jnp.sum(coverage_per_piece, axis=(1, 2))\n",
        "    piece_size = jnp.sum(remaining_pieces[:, 0, :, :], axis=(1, 2))\n",
        "    next_piece_offset = jnp.argmin(total_coverage_per_piece - piece_size)\n",
        "  \n",
        "  def swap(arr, idx0, idx1):\n",
        "    if idx0 == idx1: return arr\n",
        "    a = arr[idx0]\n",
        "    b = arr[idx1]\n",
        "    arr = jax.ops.index_update(arr, idx0, b)\n",
        "    arr = jax.ops.index_update(arr, idx1, a)\n",
        "    return arr\n",
        "  \n",
        "  pieces = swap(pieces, idx, idx + next_piece_offset)\n",
        "  unique_rotations = swap(unique_rotations, idx, idx + next_piece_offset)\n",
        "  remaining_pieces = swap(remaining_pieces, 0, next_piece_offset)\n",
        "  remaining_unique_rotations = swap(remaining_unique_rotations, 0, next_piece_offset)\n",
        "  piece_placements = swap(piece_placements, 0, next_piece_offset)\n",
        "  # TODO: sort placements by min coverage of touched board cells (lower -> higher priority)\n",
        "\n",
        "  # for all placements of next piece -> place piece and recurse with updated board and idx+1\n",
        "  for r in range(4):\n",
        "    if not remaining_unique_rotations[0, r]:\n",
        "      continue      \n",
        "\n",
        "    next_piece = remaining_pieces[0, r, :, :]\n",
        "    mask = jnp.zeros((board_height, board_width))\n",
        "    mask = jax.ops.index_update(mask, jax.ops.index[:pcs_height, :pcs_width], next_piece)\n",
        "\n",
        "    for i in range(board_height):\n",
        "      for j in range(board_width):\n",
        "        if piece_placements[0, r, i, j]:\n",
        "          board = jax.ops.index_add(board, idx + 1, mask)\n",
        "          res = solve(board, pieces, unique_rotations, idx + 1)\n",
        "          if res is not None:\n",
        "            return res\n",
        "          board = jax.ops.index_add(board, idx + 1, -mask)\n",
        "        mask = jnp.roll(mask, 1, axis=1)\n",
        "      mask = jnp.roll(mask, 1, axis=0)"
      ],
      "execution_count": 219,
      "outputs": []
    },
    {
      "cell_type": "code",
      "metadata": {
        "id": "wdkeiCfDJWmI"
      },
      "source": [
        "def align_top(mask):\n",
        "  while not jnp.any(mask[0, :]):\n",
        "    mask = jnp.roll(mask, -1, axis=0)\n",
        "  return mask\n",
        "\n",
        "def align_left(mask):\n",
        "  return jnp.transpose(align_top(jnp.transpose(mask)))\n",
        "\n",
        "align = lambda mask: align_left(align_top(mask))\n",
        "\n",
        "def pc_rotations(piece):\n",
        "  r0 = align(jnp.rot90(piece, 0))\n",
        "  r1 = align(jnp.rot90(piece, 1))\n",
        "  r2 = align(jnp.rot90(piece, 2))\n",
        "  r3 = align(jnp.rot90(piece, 3))\n",
        "  piece_rotations = jnp.stack([r0, r1, r2, r3], axis=0)\n",
        "\n",
        "  unique_rotations = 1.0 * jnp.array([\n",
        "    True,\n",
        "    not (jnp.array_equal(r1, r0)),\n",
        "    not (jnp.array_equal(r2, r1) or jnp.array_equal(r2, r0)),\n",
        "    not (jnp.array_equal(r3, r2) or jnp.array_equal(r3, r1) or jnp.array_equal(r3, r0)),\n",
        "  ])\n",
        "\n",
        "  return piece_rotations, unique_rotations\n",
        "\n",
        "def rotations(pieces):\n",
        "  # can't vmap pc_rotations because of align_top\n",
        "  res = [pc_rotations(p) for p in pieces]\n",
        "  rot = jnp.stack([rot for rot, _ in res])\n",
        "  uni = jnp.stack([uni for _, uni in res])\n",
        "  return rot, uni\n",
        "\n",
        "def polyssimo(board, pieces):\n",
        "  board_height, board_width = board.shape\n",
        "  num_pieces, _, _ = pieces.shape\n",
        "\n",
        "  board_history = jnp.concatenate([\n",
        "      board[jnp.newaxis, :, :],\n",
        "      jnp.zeros((num_pieces, board_height, board_width)),\n",
        "  ], axis=0)\n",
        "\n",
        "  piece_rotations, unique_rotations = rotations(pieces)\n",
        "\n",
        "  return solve(board_history, 1.0 * piece_rotations, 1.0 * unique_rotations)"
      ],
      "execution_count": 220,
      "outputs": []
    },
    {
      "cell_type": "code",
      "metadata": {
        "id": "qWXIv83PfAlm"
      },
      "source": [
        "board_easy = jnp.array([\n",
        "  [0, 0, 1],\n",
        "  [0, 0, 0],\n",
        "  [0, 0, 0],\n",
        "])\n",
        "\n",
        "pe1 = jnp.array([\n",
        "  [1, 1, 0],\n",
        "  [1, 1, 0],\n",
        "  [0, 0, 0],\n",
        "])\n",
        "\n",
        "pe2 = jnp.array([\n",
        "  [1, 0, 0],\n",
        "  [1, 0, 0],\n",
        "  [1, 1, 0],\n",
        "])\n",
        "\n",
        "pieces_easy = jnp.stack([pe1, pe2])"
      ],
      "execution_count": 221,
      "outputs": []
    },
    {
      "cell_type": "code",
      "metadata": {
        "colab": {
          "base_uri": "https://localhost:8080/"
        },
        "id": "QUMVLh6xto5x",
        "outputId": "39925135-112a-410e-ea07-88f572a5c8b6"
      },
      "source": [
        "polyssimo(board_easy, pieces_easy)"
      ],
      "execution_count": 222,
      "outputs": [
        {
          "output_type": "execute_result",
          "data": {
            "text/plain": [
              "DeviceArray([[[0., 0., 1.],\n",
              "              [0., 0., 0.],\n",
              "              [0., 0., 0.]],\n",
              "\n",
              "             [[1., 1., 0.],\n",
              "              [1., 1., 0.],\n",
              "              [0., 0., 0.]],\n",
              "\n",
              "             [[0., 0., 0.],\n",
              "              [0., 0., 1.],\n",
              "              [1., 1., 1.]]], dtype=float32)"
            ]
          },
          "metadata": {
            "tags": []
          },
          "execution_count": 222
        }
      ]
    },
    {
      "cell_type": "code",
      "metadata": {
        "id": "i-APfbse9mqP"
      },
      "source": [
        "board_medium = jnp.array([\n",
        "  [0, 0, 1, 0],\n",
        "  [0, 0, 0, 0],\n",
        "  [0, 0, 0, 0],\n",
        "  [0, 0, 0, 0],\n",
        "])\n",
        "\n",
        "pm1 = jnp.array([\n",
        "  [0, 1, 0],\n",
        "  [1, 1, 0],\n",
        "  [1, 1, 0],\n",
        "])\n",
        "\n",
        "pm2 = jnp.array([\n",
        "  [1, 1, 0],\n",
        "  [1, 0, 0],\n",
        "  [1, 0, 0],\n",
        "])\n",
        "\n",
        "pm3 = jnp.array([\n",
        "  [1, 0, 0],\n",
        "  [1, 0, 0],\n",
        "  [1, 0, 0],\n",
        "])\n",
        "\n",
        "pm4 = jnp.array([\n",
        "  [1, 0, 0],\n",
        "  [1, 1, 0],\n",
        "  [0, 0, 0],\n",
        "])\n",
        "\n",
        "pieces_medium = jnp.stack([pm1, pm2, pm3, pm4])"
      ],
      "execution_count": 223,
      "outputs": []
    },
    {
      "cell_type": "code",
      "metadata": {
        "colab": {
          "base_uri": "https://localhost:8080/"
        },
        "id": "88RFC_nY-Fz3",
        "outputId": "fac4e3bf-3044-41c3-8f7e-687aaf6c69e7"
      },
      "source": [
        "polyssimo(board_medium, pieces_medium)"
      ],
      "execution_count": 224,
      "outputs": [
        {
          "output_type": "execute_result",
          "data": {
            "text/plain": [
              "DeviceArray([[[0., 0., 1., 0.],\n",
              "              [0., 0., 0., 0.],\n",
              "              [0., 0., 0., 0.],\n",
              "              [0., 0., 0., 0.]],\n",
              "\n",
              "             [[0., 0., 0., 1.],\n",
              "              [0., 0., 1., 1.],\n",
              "              [0., 0., 1., 1.],\n",
              "              [0., 0., 0., 0.]],\n",
              "\n",
              "             [[0., 0., 0., 0.],\n",
              "              [0., 0., 0., 0.],\n",
              "              [0., 1., 0., 0.],\n",
              "              [0., 1., 1., 1.]],\n",
              "\n",
              "             [[0., 0., 0., 0.],\n",
              "              [1., 0., 0., 0.],\n",
              "              [1., 0., 0., 0.],\n",
              "              [1., 0., 0., 0.]],\n",
              "\n",
              "             [[1., 1., 0., 0.],\n",
              "              [0., 1., 0., 0.],\n",
              "              [0., 0., 0., 0.],\n",
              "              [0., 0., 0., 0.]]], dtype=float32)"
            ]
          },
          "metadata": {
            "tags": []
          },
          "execution_count": 224
        }
      ]
    },
    {
      "cell_type": "code",
      "metadata": {
        "id": "16N2RKmBtrjZ"
      },
      "source": [
        "board_hard = jnp.array([\n",
        "  [0, 0, 0, 0, 0, 0, 0],\n",
        "  [0, 0, 0, 0, 0, 0, 0],\n",
        "  [0, 0, 0, 0, 0, 0, 0],\n",
        "  [0, 0, 1, 0, 0, 0, 0],\n",
        "  [0, 0, 1, 1, 1, 0, 0],\n",
        "  [0, 0, 0, 0, 0, 0, 0],\n",
        "  [0, 0, 0, 0, 0, 0, 0],\n",
        "])\n",
        "\n",
        "ph1 = jnp.array([\n",
        "  [1, 1, 0],\n",
        "  [0, 1, 0],\n",
        "  [0, 1, 1],\n",
        "])\n",
        "\n",
        "ph2 = jnp.array([\n",
        "  [1, 1, 0],\n",
        "  [1, 1, 0],\n",
        "  [0, 1, 0],\n",
        "])\n",
        "\n",
        "ph3 = jnp.array([\n",
        "  [1, 0, 0],\n",
        "  [1, 1, 0],\n",
        "  [0, 1, 0],\n",
        "])\n",
        "\n",
        "ph4 = jnp.array([\n",
        "  [1, 0, 0],\n",
        "  [1, 1, 0],\n",
        "  [0, 1, 1],\n",
        "])\n",
        "\n",
        "ph5 = jnp.array([\n",
        "  [0, 1, 0],\n",
        "  [1, 1, 0],\n",
        "  [0, 1, 1],\n",
        "])\n",
        "\n",
        "ph6 = jnp.array([\n",
        "  [0, 1, 0],\n",
        "  [0, 1, 0],\n",
        "  [1, 1, 0],\n",
        "])\n",
        "\n",
        "ph7 = jnp.array([\n",
        "  [1, 0, 0],\n",
        "  [1, 0, 0],\n",
        "  [1, 1, 0],\n",
        "])\n",
        "\n",
        "ph8 = jnp.array([\n",
        "  [0, 1, 0],\n",
        "  [1, 1, 1],\n",
        "  [0, 0, 0],\n",
        "])\n",
        "\n",
        "ph9 = jnp.array([\n",
        "  [1, 1, 0],\n",
        "  [1, 1, 0],\n",
        "  [0, 0, 0],\n",
        "])\n",
        "\n",
        "ph10 = jnp.array([\n",
        "  [1, 1, 0],\n",
        "  [1, 0, 0],\n",
        "  [1, 1, 0],\n",
        "])\n",
        "\n",
        "ph11 = jnp.array([\n",
        "  [0, 1, 0],\n",
        "  [1, 1, 0],\n",
        "  [1, 0, 0],\n",
        "])\n",
        "\n",
        "pieces_hard = jnp.stack([ph1, ph2, ph3, ph4, ph5, ph7, ph8, ph9, ph10, ph11])"
      ],
      "execution_count": 236,
      "outputs": []
    },
    {
      "cell_type": "code",
      "metadata": {
        "id": "YHjY2vpRzSbG"
      },
      "source": [
        "sln_hard = polyssimo(board_hard, pieces_hard)"
      ],
      "execution_count": 237,
      "outputs": []
    },
    {
      "cell_type": "code",
      "metadata": {
        "id": "XP5UvkymJ_lk"
      },
      "source": [
        "def steps(sln):\n",
        "  sln_steps = len(sln)\n",
        "  return jnp.sum(jnp.arange(sln_steps)[:, jnp.newaxis, jnp.newaxis] * sln, axis=0)"
      ],
      "execution_count": 238,
      "outputs": []
    },
    {
      "cell_type": "code",
      "metadata": {
        "colab": {
          "base_uri": "https://localhost:8080/",
          "height": 282
        },
        "id": "ffOrxUZoFI4F",
        "outputId": "49c47a43-bf77-4c3b-c573-9aec3a7b2daa"
      },
      "source": [
        "import matplotlib.pyplot as plt\n",
        "plt.imshow(steps(sln_hard))"
      ],
      "execution_count": 239,
      "outputs": [
        {
          "output_type": "execute_result",
          "data": {
            "text/plain": [
              "<matplotlib.image.AxesImage at 0x7fb996d56890>"
            ]
          },
          "metadata": {
            "tags": []
          },
          "execution_count": 239
        },
        {
          "output_type": "display_data",
          "data": {
            "image/png": "[encoded data removed]",
            "text/plain": [
              "<Figure size 432x288 with 1 Axes>"
            ]
          },
          "metadata": {
            "tags": [],
            "needs_background": "light"
          }
        }
      ]
    },
    {
      "cell_type": "code",
      "metadata": {
        "id": "r5RQPTe9FWxe"
      },
      "source": [
        ""
      ],
      "execution_count": null,
      "outputs": []
    }
  ]
}